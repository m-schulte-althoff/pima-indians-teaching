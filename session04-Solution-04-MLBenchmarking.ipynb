{
 "cells": [
  {
   "cell_type": "markdown",
   "id": "92fd1fb8",
   "metadata": {},
   "source": [
    "# Coding Block 4 - Automated model and hyperparameter tuning with AutoGluon"
   ]
  },
  {
   "cell_type": "markdown",
   "id": "c39695e0",
   "metadata": {},
   "source": [
    "### Load the packages"
   ]
  },
  {
   "cell_type": "code",
   "execution_count": 1,
   "id": "a2b0c94e",
   "metadata": {
    "_kg_hide-input": true,
    "execution": {
     "iopub.execute_input": "2021-09-20T20:03:00.442022Z",
     "iopub.status.busy": "2021-09-20T20:03:00.441258Z",
     "iopub.status.idle": "2021-09-20T20:03:01.852024Z",
     "shell.execute_reply": "2021-09-20T20:03:01.851352Z",
     "shell.execute_reply.started": "2021-09-20T19:54:12.026788Z"
    },
    "papermill": {
     "duration": 1.435807,
     "end_time": "2021-09-20T20:03:01.852223",
     "exception": false,
     "start_time": "2021-09-20T20:03:00.416416",
     "status": "completed"
    },
    "tags": []
   },
   "outputs": [
    {
     "data": {
      "text/plain": [
       "'\\n...\\n'"
      ]
     },
     "execution_count": 1,
     "metadata": {},
     "output_type": "execute_result"
    }
   ],
   "source": [
    "import numpy as np\n",
    "import pandas as pd\n",
    "import matplotlib.pyplot as plt\n",
    "from sklearn.ensemble import RandomForestClassifier\n",
    "from sklearn.model_selection import train_test_split\n",
    "from sklearn.metrics import accuracy_score\n",
    "# AutoML\n",
    "from autogluon.tabular import TabularPredictor\n",
    "'''\n",
    "...\n",
    "'''"
   ]
  },
  {
   "cell_type": "markdown",
   "id": "5aaae9e8",
   "metadata": {},
   "source": [
    "### Read the dataset \n",
    "You can also compare processed and non-processed data. The autogluon library will do some preprocessing as well."
   ]
  },
  {
   "cell_type": "code",
   "execution_count": 2,
   "id": "d1775d95",
   "metadata": {
    "_kg_hide-input": true,
    "execution": {
     "iopub.execute_input": "2021-09-20T20:03:01.895944Z",
     "iopub.status.busy": "2021-09-20T20:03:01.895175Z",
     "iopub.status.idle": "2021-09-20T20:03:05.794695Z",
     "shell.execute_reply": "2021-09-20T20:03:05.795244Z",
     "shell.execute_reply.started": "2021-09-20T19:54:12.050571Z"
    },
    "papermill": {
     "duration": 3.924865,
     "end_time": "2021-09-20T20:03:05.795452",
     "exception": false,
     "start_time": "2021-09-20T20:03:01.870587",
     "status": "completed"
    },
    "tags": []
   },
   "outputs": [],
   "source": [
    "diab_cleaned=pd.read_csv('diabetes_cleaned.csv')\n",
    "diab_cleaned.drop(columns=['outlier_z_score', 'outlier_Tukey'],\n",
    "                   errors='ignore', inplace=True)"
   ]
  },
  {
   "cell_type": "code",
   "execution_count": 3,
   "id": "e01177fd",
   "metadata": {},
   "outputs": [
    {
     "data": {
      "text/html": [
       "<div>\n",
       "<style scoped>\n",
       "    .dataframe tbody tr th:only-of-type {\n",
       "        vertical-align: middle;\n",
       "    }\n",
       "\n",
       "    .dataframe tbody tr th {\n",
       "        vertical-align: top;\n",
       "    }\n",
       "\n",
       "    .dataframe thead th {\n",
       "        text-align: right;\n",
       "    }\n",
       "</style>\n",
       "<table border=\"1\" class=\"dataframe\">\n",
       "  <thead>\n",
       "    <tr style=\"text-align: right;\">\n",
       "      <th></th>\n",
       "      <th>Pregnancies</th>\n",
       "      <th>Glucose</th>\n",
       "      <th>BloodPressure</th>\n",
       "      <th>SkinThickness</th>\n",
       "      <th>Insulin</th>\n",
       "      <th>BMI</th>\n",
       "      <th>DiabetesPedigreeFunction</th>\n",
       "      <th>Age</th>\n",
       "      <th>Outcome</th>\n",
       "    </tr>\n",
       "  </thead>\n",
       "  <tbody>\n",
       "    <tr>\n",
       "      <th>count</th>\n",
       "      <td>768.000000</td>\n",
       "      <td>768.000000</td>\n",
       "      <td>768.000000</td>\n",
       "      <td>768.000000</td>\n",
       "      <td>768.000000</td>\n",
       "      <td>768.000000</td>\n",
       "      <td>768.000000</td>\n",
       "      <td>768.000000</td>\n",
       "      <td>768.000000</td>\n",
       "    </tr>\n",
       "    <tr>\n",
       "      <th>mean</th>\n",
       "      <td>3.845052</td>\n",
       "      <td>121.716146</td>\n",
       "      <td>72.522135</td>\n",
       "      <td>29.438802</td>\n",
       "      <td>155.583333</td>\n",
       "      <td>32.410677</td>\n",
       "      <td>0.471876</td>\n",
       "      <td>33.240885</td>\n",
       "      <td>0.348958</td>\n",
       "    </tr>\n",
       "    <tr>\n",
       "      <th>std</th>\n",
       "      <td>3.369578</td>\n",
       "      <td>30.649214</td>\n",
       "      <td>12.437674</td>\n",
       "      <td>10.488407</td>\n",
       "      <td>118.777435</td>\n",
       "      <td>6.930788</td>\n",
       "      <td>0.331329</td>\n",
       "      <td>11.760232</td>\n",
       "      <td>0.476951</td>\n",
       "    </tr>\n",
       "    <tr>\n",
       "      <th>min</th>\n",
       "      <td>0.000000</td>\n",
       "      <td>44.000000</td>\n",
       "      <td>24.000000</td>\n",
       "      <td>7.000000</td>\n",
       "      <td>14.000000</td>\n",
       "      <td>18.200000</td>\n",
       "      <td>0.078000</td>\n",
       "      <td>21.000000</td>\n",
       "      <td>0.000000</td>\n",
       "    </tr>\n",
       "    <tr>\n",
       "      <th>25%</th>\n",
       "      <td>1.000000</td>\n",
       "      <td>99.000000</td>\n",
       "      <td>64.000000</td>\n",
       "      <td>22.000000</td>\n",
       "      <td>77.000000</td>\n",
       "      <td>27.400000</td>\n",
       "      <td>0.243750</td>\n",
       "      <td>24.000000</td>\n",
       "      <td>0.000000</td>\n",
       "    </tr>\n",
       "    <tr>\n",
       "      <th>50%</th>\n",
       "      <td>3.000000</td>\n",
       "      <td>117.000000</td>\n",
       "      <td>72.000000</td>\n",
       "      <td>29.000000</td>\n",
       "      <td>125.500000</td>\n",
       "      <td>32.250000</td>\n",
       "      <td>0.372500</td>\n",
       "      <td>29.000000</td>\n",
       "      <td>0.000000</td>\n",
       "    </tr>\n",
       "    <tr>\n",
       "      <th>75%</th>\n",
       "      <td>6.000000</td>\n",
       "      <td>141.000000</td>\n",
       "      <td>80.000000</td>\n",
       "      <td>36.250000</td>\n",
       "      <td>194.000000</td>\n",
       "      <td>36.600000</td>\n",
       "      <td>0.626250</td>\n",
       "      <td>41.000000</td>\n",
       "      <td>1.000000</td>\n",
       "    </tr>\n",
       "    <tr>\n",
       "      <th>max</th>\n",
       "      <td>17.000000</td>\n",
       "      <td>199.000000</td>\n",
       "      <td>122.000000</td>\n",
       "      <td>99.000000</td>\n",
       "      <td>846.000000</td>\n",
       "      <td>67.100000</td>\n",
       "      <td>2.420000</td>\n",
       "      <td>81.000000</td>\n",
       "      <td>1.000000</td>\n",
       "    </tr>\n",
       "  </tbody>\n",
       "</table>\n",
       "</div>"
      ],
      "text/plain": [
       "       Pregnancies     Glucose  BloodPressure  SkinThickness     Insulin  \\\n",
       "count   768.000000  768.000000     768.000000     768.000000  768.000000   \n",
       "mean      3.845052  121.716146      72.522135      29.438802  155.583333   \n",
       "std       3.369578   30.649214      12.437674      10.488407  118.777435   \n",
       "min       0.000000   44.000000      24.000000       7.000000   14.000000   \n",
       "25%       1.000000   99.000000      64.000000      22.000000   77.000000   \n",
       "50%       3.000000  117.000000      72.000000      29.000000  125.500000   \n",
       "75%       6.000000  141.000000      80.000000      36.250000  194.000000   \n",
       "max      17.000000  199.000000     122.000000      99.000000  846.000000   \n",
       "\n",
       "              BMI  DiabetesPedigreeFunction         Age     Outcome  \n",
       "count  768.000000                768.000000  768.000000  768.000000  \n",
       "mean    32.410677                  0.471876   33.240885    0.348958  \n",
       "std      6.930788                  0.331329   11.760232    0.476951  \n",
       "min     18.200000                  0.078000   21.000000    0.000000  \n",
       "25%     27.400000                  0.243750   24.000000    0.000000  \n",
       "50%     32.250000                  0.372500   29.000000    0.000000  \n",
       "75%     36.600000                  0.626250   41.000000    1.000000  \n",
       "max     67.100000                  2.420000   81.000000    1.000000  "
      ]
     },
     "execution_count": 3,
     "metadata": {},
     "output_type": "execute_result"
    }
   ],
   "source": [
    "diab_cleaned.describe()"
   ]
  },
  {
   "cell_type": "markdown",
   "id": "ce5937d7",
   "metadata": {},
   "source": [
    "### Use the Autogluon library\n",
    "Use the library autogluon for automated hyperparametertuning and model benchmarking. The fit function of the TabularPredictor object allows for setting the option: <br>\n",
    "<i>presets='medium_quality'</i> <br>\n",
    "which limits the depths of hyperparameter optimization"
   ]
  },
  {
   "cell_type": "code",
   "execution_count": null,
   "id": "878256be",
   "metadata": {},
   "outputs": [],
   "source": [
    "# Define target variable\n",
    "target = 'Outcome'\n",
    "\n",
    "# Define time limit for model training (in seconds)\n",
    "TIME_LIMIT = 600  # 10 minutes\n",
    "\n",
    "# Split data into train/test sets\n",
    "train_data, test_data = train_test_split(diab_cleaned, test_size=0.2, \n",
    "\n",
    "# Train AutoGluon model with the desired adjustments\n",
    "predictor = TabularPredictor(label=target, eval_metric='roc_auc').fit(\n",
    "    train_data,\n",
    "    presets='best_quality',  # Using the best quality preset for higher accuracy\n",
    "    time_limit=TIME_LIMIT,  # You can set a time limit to control how long the training runs (in seconds)\n",
    "    num_bag_folds=5,  # Enable ensembling by using bagging with 8 folds\n",
    "    num_stack_levels=1,  # Enable stacking to further improve model performance\n",
    "    ag_args_fit={'use_gpu': False},  # Set to True to use GPU for model training\n",
    "    verbosity=0  # Set verbosity level to suppress too much logging output (0: most silent, 4: most detailed)\n",
    ")\n",
    "\n",
    "# Evaluate model performance on test data\n",
    "print(\"\\n--- Model Performance on Test Data ---\")\n",
    "test_performance = predictor.evaluate(test_data, detailed_report=True)\n",
    "print(f\"Test ROC-AUC: {test_performance['roc_auc']:.4f}\")\n",
    "print(f\"Test Accuracy: {test_performance['accuracy']:.4f}\")\n",
    "print(f\"Test F1 Score: {test_performance['f1']:.4f}\")\n"
   ]
  },
  {
   "cell_type": "markdown",
   "id": "5d414ebe",
   "metadata": {},
   "source": [
    "### Show the leaderboard\n",
    "The resulting \"predictor\" object of the TabularPredictor function from Autogluon has a function \"leaderboard\""
   ]
  },
  {
   "cell_type": "code",
   "execution_count": null,
   "id": "c06190c2",
   "metadata": {},
   "outputs": [],
   "source": [
    "# Get model leaderboard\n",
    "print(\"\\n--- Model Leaderboard ---\")\n",
    "leaderboard = predictor.leaderboard(test_data)\n",
    "print(leaderboard)"
   ]
  },
  {
   "cell_type": "markdown",
   "id": "a513f67a",
   "metadata": {},
   "source": [
    "### Show the feature importance table\n",
    "The resulting \"predictor\" object of the TabularPredictor function from Autogluon also has a function \"feature_importance\""
   ]
  },
  {
   "cell_type": "code",
   "execution_count": null,
   "id": "2c29e109",
   "metadata": {},
   "outputs": [],
   "source": [
    "# Feature importance\n",
    "print(\"\\n--- Feature Importance ---\")\n",
    "try:\n",
    "    importance = predictor.feature_importance(test_data)\n",
    "    print(importance)\n",
    "except:\n",
    "    print(\"Feature importance calculation not supported for the best model\")\n",
    "\n",
    "# Make predictions on test data\n",
    "y_pred = predictor.predict(test_data)\n",
    "y_pred_proba = predictor.predict_proba(test_data)\n",
    "\n",
    "# Get confusion matrix\n",
    "from sklearn.metrics import confusion_matrix, classification_report\n",
    "print(\"\\n--- Confusion Matrix ---\")\n",
    "print(confusion_matrix(test_data[target], y_pred))\n",
    "\n",
    "# Get classification report\n",
    "print(\"\\n--- Classification Report ---\")\n",
    "print(classification_report(test_data[target], y_pred))"
   ]
  }
 ],
 "metadata": {
  "kernelspec": {
   "display_name": "pimaIndianDataAutoML",
   "language": "python",
   "name": "python3"
  },
  "language_info": {
   "codemirror_mode": {
    "name": "ipython",
    "version": 3
   },
   "file_extension": ".py",
   "mimetype": "text/x-python",
   "name": "python",
   "nbconvert_exporter": "python",
   "pygments_lexer": "ipython3",
   "version": "3.11.11"
  },
  "papermill": {
   "default_parameters": {},
   "duration": 49.933279,
   "end_time": "2021-09-20T20:03:41.801824",
   "environment_variables": {},
   "exception": null,
   "input_path": "__notebook__.ipynb",
   "output_path": "__notebook__.ipynb",
   "parameters": {},
   "start_time": "2021-09-20T20:02:51.868545",
   "version": "2.3.3"
  }
 },
 "nbformat": 4,
 "nbformat_minor": 5
}
